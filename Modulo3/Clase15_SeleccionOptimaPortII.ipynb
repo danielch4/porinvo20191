{
 "cells": [
  {
   "cell_type": "markdown",
   "metadata": {},
   "source": [
    "# Selección óptima de portafolios II\n",
    "\n",
    "<img style=\"float: right; margin: 0px 0px 15px 15px;\" src=\"https://upload.wikimedia.org/wikipedia/commons/thumb/6/6e/Separation_theorem_of_MPT.svg/2000px-Separation_theorem_of_MPT.svg.png\" width=\"400px\" height=\"400px\" />\n",
    "\n",
    "Entonces, tenemos que:\n",
    "- La LAC describe las posibles selecciones de riesgo-rendimiento entre un activo libre de riesgo y un activo riesgoso.\n",
    "- Su pendiente es igual al radio de Sharpe del activo riesgoso.\n",
    "- La asignación óptima de capital para cualquier inversionista es el punto tangente de la curva de indiferencia del inversionista con la LAC.\n",
    "\n",
    "Para todo lo anterior, supusimos que ya teníamos el portafolio óptimo (activo riesgoso).\n",
    "\n",
    "En la clase pasada aprendimos a hallar este portafolio óptimo si el conjunto de activos riesgosos estaba conformado únicamente por dos activos:\n",
    "\n",
    "$$w_{1,EMV}=\\frac{(E[r_1]-r_f)\\sigma_2^2-(E[r_2]-r_f)\\sigma_{12}}{(E[r_2]-r_f)\\sigma_1^2+(E[r_1]-r_f)\\sigma_2^2-((E[r_1]-r_f)+(E[r_2]-r_f))\\sigma_{12}}.$$\n",
    "\n",
    "- Sin embargo, la complejidad del problema crece considerablemente con el número de variables, y la solución analítica deja de ser viable cuando mencionamos que un portafolio bien diversificado consta aproximadamente de 50-60 activos.\n",
    "- En esos casos, este problema se soluciona con rutinas numéricas que hagan la optimización por nosotros, porque son una solución viable y escalable a más variables.\n",
    " \n",
    "\n",
    "**Objetivos:**\n",
    "- ¿Cuál es el portafolio óptimo de activos riesgosos cuando tenemos más de dos activos?\n",
    " - ¿Cómo construir la frontera de mínima varianza cuando tenemos más de dos activos?\n",
    "\n",
    "*Referencia:*\n",
    "- Notas del curso \"Portfolio Selection and Risk Management\", Rice University, disponible en Coursera.\n",
    "___"
   ]
  },
  {
   "cell_type": "markdown",
   "metadata": {},
   "source": [
    "## 1. Maximizando el radio de Sharpe\n",
    "\n",
    "### ¿Qué pasa si tenemos más de dos activos riesgosos?\n",
    "\n",
    "En realidad es algo muy similar a lo que teníamos con dos activos.\n",
    "- Para dos activos, construir la frontera de mínima varianza es trivial: todas las posibles combinaciones.\n",
    "- Con más de dos activos, recordar la definición: la frontera de mínima varianza es el lugar geométrico de los portafolios que proveen el mínimo riesgo para un nivel de rendimiento dado.\n",
    "\n",
    "<font color=blue> Ver en el tablero.</font>"
   ]
  },
  {
   "cell_type": "markdown",
   "metadata": {},
   "source": [
    "Analíticamente:\n",
    "- $N$ activos, \n",
    "- caracterizados por $(\\sigma_i,E[r_i])$,\n",
    "- cada uno con peso $w_i$, con $i=1,2,\\dots,N$.\n",
    "\n",
    "Entonces, buscamos los pesos tales que\n",
    "\n",
    "\\begin{align}\n",
    "\\min_{w_1,\\dots,w_n} & \\quad \\sum_{i=1}^{N}w_i^2\\sigma_i^2+\\sum_{i=1}^{N}\\sum_{j=1,j\\neq i}^{N}w_iw_j\\sigma_{ij}\\\\\n",
    "\\text{s.a.}          & \\quad \\sum_{i=1}^{N}w_i=1, w_i\\geq0\\\\\n",
    "                     & \\quad \\sum_{i=1}^{N}w_iE[r_i]=\\bar{\\mu},\n",
    "\\end{align}\n",
    "\n",
    "donde $\\bar{\\mu}$ corresponde a un nivel de rendimiento objetivo. \n",
    "\n",
    "**Obviamente, tendríamos que resolver este problema para muchos niveles de rendimiento objetivo.**\n",
    "\n",
    "- <font color=blue> Explicar relación con gráfica.</font>\n",
    "\n",
    "- <font color=green> Recordar clase 10.</font>"
   ]
  },
  {
   "cell_type": "markdown",
   "metadata": {},
   "source": [
    "Lo anterior se puede escribir vectorialmente como:"
   ]
  },
  {
   "cell_type": "markdown",
   "metadata": {},
   "source": [
    "\\begin{align}\n",
    "\\min_{\\boldsymbol{w}} & \\quad \\boldsymbol{w}^T\\Sigma\\boldsymbol{w}\\\\\n",
    "\\text{s.a.}          & \\quad \\boldsymbol{1}^T\\boldsymbol{w}=1, \\boldsymbol{w}\\geq0\\\\\n",
    "                     & \\quad E[\\boldsymbol{r}^T]\\boldsymbol{w}=\\bar{\\mu},\n",
    "\\end{align}\n",
    "\n",
    "donde:\n",
    "- $\\boldsymbol{w}=\\left[w_1,\\dots,w_N\\right]^T$ es el vector de pesos,\n",
    "- $\\boldsymbol{1}=\\left[1,\\dots,1\\right]^T$ es un vector de unos,\n",
    "- $E[\\boldsymbol{r}]=\\left[E[r_1],\\dots,E[r_N]\\right]^T$ es el vector de rendimientos esperados, y\n",
    "- $\\Sigma=\\left[\\begin{array}{cccc}\\sigma_{1}^2 & \\sigma_{12}  & \\dots  & \\sigma_{1N} \\\\\n",
    "                                   \\sigma_{21}  & \\sigma_{2}^2 & \\dots  & \\sigma_{2N} \\\\\n",
    "                                   \\vdots       & \\vdots       & \\ddots & \\vdots      \\\\\n",
    "                                   \\sigma_{N1}  & \\sigma_{N2}  & \\dots  & \\sigma_{N}^2\\end{array}\\right]$ es la matriz de varianza-covarianza.\n",
    "                                   \n",
    "**Esta última forma es la que comúnmente usamos al programar, por ser eficiente y escalable a problemas de N variables.**"
   ]
  },
  {
   "cell_type": "markdown",
   "metadata": {},
   "source": [
    "### Entonces, ¿para cuántos niveles de rendimiento objetivo tendríamos que resolver el anterior problema con el fin de graficar la frontera de mínima varianza?\n",
    "- Observar que el problema puede volverse muy pesado a medida que incrementamos el número de activos en nuestro portafolio...\n",
    "- Una tarea bastante compleja."
   ]
  },
  {
   "cell_type": "markdown",
   "metadata": {},
   "source": [
    "### Sucede que, en realidad, sólo necesitamos conocer dos portafolios que estén sobre la *frontera de mínima varianza*.\n",
    "- Si logramos encontrar dos portafolios sobre la frontera, entonces podemos a la vez encontrar todas las posibles combinaciones de estos dos portafolios para trazar la frontera de mínima varianza.\n",
    "- Ver el caso de dos activos."
   ]
  },
  {
   "cell_type": "markdown",
   "metadata": {},
   "source": [
    "### ¿Qué portafolios usar?\n",
    "Hasta ahora, hemos estudiando profundamente como hallar dos portafolios muy importantes que de hecho yacen sobre la frontera de mínima varianza:\n",
    "1. Portafolio de EMV: máximo SR.\n",
    "2. Portafolio de mínima varianza: básicamente, el mismo problema anterior, sin la restricción de rendimiento objetivo.\n",
    "\n",
    "Luego, tomar todas las posibles combinaciones de dichos portafolios usando las fórmulas para dos activos de medias y varianzas:\n",
    "- w: peso para el portafolio EMV,\n",
    "- 1-w: peso para le portafolio de mínima varianza."
   ]
  },
  {
   "cell_type": "markdown",
   "metadata": {},
   "source": [
    "## 2. Ejemplo ilustrativo.\n",
    "\n",
    "Retomamos el ejemplo de mercados de acciones en los países integrantes del $G5$: EU, RU, Francia, Alemania y Japón."
   ]
  },
  {
   "cell_type": "code",
   "execution_count": 5,
   "metadata": {},
   "outputs": [],
   "source": [
    "# Importamos pandas y numpy\n",
    "import pandas as pd\n",
    "import numpy as np"
   ]
  },
  {
   "cell_type": "code",
   "execution_count": 6,
   "metadata": {},
   "outputs": [
    {
     "data": {
      "text/html": [
       "<div>\n",
       "<style scoped>\n",
       "    .dataframe tbody tr th:only-of-type {\n",
       "        vertical-align: middle;\n",
       "    }\n",
       "\n",
       "    .dataframe tbody tr th {\n",
       "        vertical-align: top;\n",
       "    }\n",
       "\n",
       "    .dataframe thead th {\n",
       "        text-align: right;\n",
       "    }\n",
       "</style>\n",
       "<table border=\"1\" class=\"dataframe\">\n",
       "  <thead>\n",
       "    <tr style=\"text-align: right;\">\n",
       "      <th></th>\n",
       "      <th>EU</th>\n",
       "      <th>RU</th>\n",
       "      <th>Francia</th>\n",
       "      <th>Alemania</th>\n",
       "      <th>Japon</th>\n",
       "    </tr>\n",
       "  </thead>\n",
       "  <tbody>\n",
       "    <tr>\n",
       "      <th>Media</th>\n",
       "      <td>0.1355</td>\n",
       "      <td>0.1589</td>\n",
       "      <td>0.1519</td>\n",
       "      <td>0.1435</td>\n",
       "      <td>0.1497</td>\n",
       "    </tr>\n",
       "    <tr>\n",
       "      <th>Volatilidad</th>\n",
       "      <td>0.1535</td>\n",
       "      <td>0.243</td>\n",
       "      <td>0.2324</td>\n",
       "      <td>0.2038</td>\n",
       "      <td>0.2298</td>\n",
       "    </tr>\n",
       "  </tbody>\n",
       "</table>\n",
       "</div>"
      ],
      "text/plain": [
       "                 EU      RU Francia Alemania   Japon\n",
       "Media        0.1355  0.1589  0.1519   0.1435  0.1497\n",
       "Volatilidad  0.1535   0.243  0.2324   0.2038  0.2298"
      ]
     },
     "execution_count": 6,
     "metadata": {},
     "output_type": "execute_result"
    }
   ],
   "source": [
    "# Resumen en base anual de rendimientos esperados y volatilidades\n",
    "annual_ret_summ = pd.DataFrame(columns=['EU', 'RU', 'Francia', 'Alemania', 'Japon'], index=['Media', 'Volatilidad'])\n",
    "annual_ret_summ.loc['Media'] = np.array([0.1355, 0.1589, 0.1519, 0.1435, 0.1497])\n",
    "annual_ret_summ.loc['Volatilidad'] = np.array([0.1535, 0.2430, 0.2324, 0.2038, 0.2298])\n",
    "\n",
    "annual_ret_summ.round(4)"
   ]
  },
  {
   "cell_type": "code",
   "execution_count": 7,
   "metadata": {},
   "outputs": [
    {
     "data": {
      "text/html": [
       "<div>\n",
       "<style scoped>\n",
       "    .dataframe tbody tr th:only-of-type {\n",
       "        vertical-align: middle;\n",
       "    }\n",
       "\n",
       "    .dataframe tbody tr th {\n",
       "        vertical-align: top;\n",
       "    }\n",
       "\n",
       "    .dataframe thead th {\n",
       "        text-align: right;\n",
       "    }\n",
       "</style>\n",
       "<table border=\"1\" class=\"dataframe\">\n",
       "  <thead>\n",
       "    <tr style=\"text-align: right;\">\n",
       "      <th></th>\n",
       "      <th>EU</th>\n",
       "      <th>RU</th>\n",
       "      <th>Francia</th>\n",
       "      <th>Alemania</th>\n",
       "      <th>Japon</th>\n",
       "    </tr>\n",
       "  </thead>\n",
       "  <tbody>\n",
       "    <tr>\n",
       "      <th>EU</th>\n",
       "      <td>1.0000</td>\n",
       "      <td>0.5003</td>\n",
       "      <td>0.4398</td>\n",
       "      <td>0.3681</td>\n",
       "      <td>0.2663</td>\n",
       "    </tr>\n",
       "    <tr>\n",
       "      <th>RU</th>\n",
       "      <td>0.5003</td>\n",
       "      <td>1.0000</td>\n",
       "      <td>0.5420</td>\n",
       "      <td>0.4265</td>\n",
       "      <td>0.3581</td>\n",
       "    </tr>\n",
       "    <tr>\n",
       "      <th>Francia</th>\n",
       "      <td>0.4398</td>\n",
       "      <td>0.5420</td>\n",
       "      <td>1.0000</td>\n",
       "      <td>0.6032</td>\n",
       "      <td>0.3923</td>\n",
       "    </tr>\n",
       "    <tr>\n",
       "      <th>Alemania</th>\n",
       "      <td>0.3681</td>\n",
       "      <td>0.4265</td>\n",
       "      <td>0.6032</td>\n",
       "      <td>1.0000</td>\n",
       "      <td>0.3663</td>\n",
       "    </tr>\n",
       "    <tr>\n",
       "      <th>Japon</th>\n",
       "      <td>0.2663</td>\n",
       "      <td>0.3581</td>\n",
       "      <td>0.3923</td>\n",
       "      <td>0.3663</td>\n",
       "      <td>1.0000</td>\n",
       "    </tr>\n",
       "  </tbody>\n",
       "</table>\n",
       "</div>"
      ],
      "text/plain": [
       "              EU      RU  Francia  Alemania   Japon\n",
       "EU        1.0000  0.5003   0.4398    0.3681  0.2663\n",
       "RU        0.5003  1.0000   0.5420    0.4265  0.3581\n",
       "Francia   0.4398  0.5420   1.0000    0.6032  0.3923\n",
       "Alemania  0.3681  0.4265   0.6032    1.0000  0.3663\n",
       "Japon     0.2663  0.3581   0.3923    0.3663  1.0000"
      ]
     },
     "execution_count": 7,
     "metadata": {},
     "output_type": "execute_result"
    }
   ],
   "source": [
    "# Matriz de correlación\n",
    "corr = pd.DataFrame(data= np.array([[1.0000, 0.5003, 0.4398, 0.3681, 0.2663],\n",
    "                                    [0.5003, 1.0000, 0.5420, 0.4265, 0.3581],\n",
    "                                    [0.4398, 0.5420, 1.0000, 0.6032, 0.3923],\n",
    "                                    [0.3681, 0.4265, 0.6032, 1.0000, 0.3663],\n",
    "                                    [0.2663, 0.3581, 0.3923, 0.3663, 1.0000]]),\n",
    "                    columns=annual_ret_summ.columns, index=annual_ret_summ.columns)\n",
    "corr.round(4)"
   ]
  },
  {
   "cell_type": "code",
   "execution_count": 8,
   "metadata": {},
   "outputs": [],
   "source": [
    "# Tasa libre de riesgo\n",
    "rf = 0.05"
   ]
  },
  {
   "cell_type": "markdown",
   "metadata": {},
   "source": [
    "Esta vez, supondremos que tenemos disponibles todos los mercados de acciones y el activo libre de riesgo."
   ]
  },
  {
   "cell_type": "markdown",
   "metadata": {},
   "source": [
    "#### 1. Construir la frontera de mínima varianza"
   ]
  },
  {
   "cell_type": "markdown",
   "metadata": {},
   "source": [
    "##### 1.1. Encontrar portafolio de mínima varianza"
   ]
  },
  {
   "cell_type": "code",
   "execution_count": 27,
   "metadata": {},
   "outputs": [],
   "source": [
    "# Importamos funcion minimize del modulo optimize de scipy\n",
    "from scipy.optimize import minimize"
   ]
  },
  {
   "cell_type": "code",
   "execution_count": 16,
   "metadata": {},
   "outputs": [
    {
     "data": {
      "text/plain": [
       "array([0.1355, 0.1589, 0.1519, 0.1435, 0.1497], dtype=object)"
      ]
     },
     "execution_count": 16,
     "metadata": {},
     "output_type": "execute_result"
    }
   ],
   "source": [
    "## Construcción de parámetros\n",
    "# 1. Sigma: matriz de varianza-covarianza\n",
    "S = np.diag(annual_ret_summ.loc['Volatilidad'])\n",
    "Sigma = S.dot(corr).dot(S)\n",
    "# 2. Eind: rendimientos esperados activos individuales\n",
    "Eind = annual_ret_summ.loc['Media'].values"
   ]
  },
  {
   "cell_type": "code",
   "execution_count": 20,
   "metadata": {},
   "outputs": [],
   "source": [
    "# Función objetivo\n",
    "def var(w, Sigma):\n",
    "    return w.dot(Sigma).dot(w)"
   ]
  },
  {
   "cell_type": "code",
   "execution_count": 32,
   "metadata": {},
   "outputs": [
    {
     "data": {
      "text/plain": [
       "tuple"
      ]
     },
     "execution_count": 32,
     "metadata": {},
     "output_type": "execute_result"
    }
   ],
   "source": [
    "# Dato inicial\n",
    "n = len(Eind)\n",
    "w0 = np.ones((n,)) / n\n",
    "# Cotas de las variables\n",
    "bnds = ((0, 1),) * n\n",
    "# Restricciones\n",
    "cons = {'type': 'eq', 'fun': lambda w: w.sum() - 1}\n",
    "############# Otra forma ############\n",
    "# Restriccion suma(w)=1\n",
    "#def sum_w_1(w):\n",
    "#    return w.sum() - 1\n",
    "#cons = {'type': 'eq', 'fun': sum_w_1}"
   ]
  },
  {
   "cell_type": "code",
   "execution_count": 28,
   "metadata": {},
   "outputs": [
    {
     "data": {
      "text/plain": [
       "     fun: 0.01861776391061502\n",
       "     jac: array([0.03718246, 0.03881475, 0.03859101, 0.03755156, 0.0370423 ])\n",
       " message: 'Optimization terminated successfully.'\n",
       "    nfev: 49\n",
       "     nit: 7\n",
       "    njev: 7\n",
       "  status: 0\n",
       " success: True\n",
       "       x: array([6.17797049e-01, 3.46944695e-18, 0.00000000e+00, 2.09394358e-01,\n",
       "       1.72808594e-01])"
      ]
     },
     "execution_count": 28,
     "metadata": {},
     "output_type": "execute_result"
    }
   ],
   "source": [
    "# Portafolio de mínima varianza\n",
    "minvar = minimize(fun=var,\n",
    "                  x0=w0,\n",
    "                  args=(Sigma,),\n",
    "                  bounds=bnds,\n",
    "                  constraints=cons\n",
    "                 )\n",
    "minvar"
   ]
  },
  {
   "cell_type": "code",
   "execution_count": 33,
   "metadata": {},
   "outputs": [
    {
     "data": {
      "text/plain": [
       "(array([6.17797049e-01, 3.46944695e-18, 0.00000000e+00, 2.09394358e-01,\n",
       "        1.72808594e-01]),\n",
       " 0.13962903688859557,\n",
       " 0.13644692708381168,\n",
       " 0.6568783834431207)"
      ]
     },
     "execution_count": 33,
     "metadata": {},
     "output_type": "execute_result"
    }
   ],
   "source": [
    "# Pesos, rendimiento y riesgo del portafolio de mínima varianza\n",
    "w_minvar = minvar.x\n",
    "E_minvar = Eind.dot(w_minvar)\n",
    "s_minvar = np.sqrt(var(w_minvar, Sigma))\n",
    "RS_minvar = (E_minvar - rf) / s_minvar\n",
    "w_minvar, E_minvar, s_minvar, RS_minvar"
   ]
  },
  {
   "cell_type": "markdown",
   "metadata": {},
   "source": [
    "##### 1.2. Encontrar portafolio EMV"
   ]
  },
  {
   "cell_type": "code",
   "execution_count": 36,
   "metadata": {},
   "outputs": [],
   "source": [
    "# Función objetivo\n",
    "def menos_RS(w, Eind, Sigma, rf):\n",
    "    Ep = Eind.dot(w)\n",
    "    sp = np.sqrt(w.dot(Sigma).dot(w))\n",
    "    RS = (Ep - rf) / sp\n",
    "    return -RS"
   ]
  },
  {
   "cell_type": "code",
   "execution_count": 37,
   "metadata": {},
   "outputs": [],
   "source": [
    "# Dato inicial\n",
    "n = len(Eind)\n",
    "w0 = np.ones((n,)) / n\n",
    "# Cotas de las variables\n",
    "bnds = ((0, 1),) * n\n",
    "# Restricciones\n",
    "cons = {'type': 'eq', 'fun': lambda w: w.sum() - 1}"
   ]
  },
  {
   "cell_type": "code",
   "execution_count": 38,
   "metadata": {},
   "outputs": [
    {
     "data": {
      "text/plain": [
       "     fun: -0.6644372965632436\n",
       "     jac: array([-0.36088951, -0.36076408, -0.36036385, -0.36108153, -0.36062376])\n",
       " message: 'Optimization terminated successfully.'\n",
       "    nfev: 35\n",
       "     nit: 5\n",
       "    njev: 5\n",
       "  status: 0\n",
       " success: True\n",
       "       x: array([0.50714174, 0.07470888, 0.02471533, 0.18943972, 0.20399434])"
      ]
     },
     "execution_count": 38,
     "metadata": {},
     "output_type": "execute_result"
    }
   ],
   "source": [
    "# Portafolio EMV\n",
    "EMV = minimize(fun=menos_RS,\n",
    "               x0=w0,\n",
    "               args=(Eind, Sigma, rf),\n",
    "               bounds=bnds,\n",
    "               constraints=cons\n",
    "              )\n",
    "EMV"
   ]
  },
  {
   "cell_type": "code",
   "execution_count": 39,
   "metadata": {},
   "outputs": [
    {
     "data": {
      "text/plain": [
       "(array([0.50714174, 0.07470888, 0.02471533, 0.18943972, 0.20399434]),\n",
       " 0.1420657564717856,\n",
       " 0.13856199365687238,\n",
       " 0.6644372965632436)"
      ]
     },
     "execution_count": 39,
     "metadata": {},
     "output_type": "execute_result"
    }
   ],
   "source": [
    "# Pesos, rendimiento y riesgo del portafolio EMV\n",
    "w_EMV = EMV.x\n",
    "E_EMV = Eind.dot(w_EMV)\n",
    "s_EMV = np.sqrt(var(w_EMV, Sigma))\n",
    "RS_EMV = (E_EMV - rf) / s_EMV\n",
    "w_EMV, E_EMV, s_EMV, RS_EMV"
   ]
  },
  {
   "cell_type": "markdown",
   "metadata": {},
   "source": [
    "##### 1.3. Construir frontera de mínima varianza"
   ]
  },
  {
   "cell_type": "markdown",
   "metadata": {},
   "source": [
    "También debemos encontrar la covarianza (o correlación) entre estos dos portafolios:"
   ]
  },
  {
   "cell_type": "code",
   "execution_count": 45,
   "metadata": {},
   "outputs": [
    {
     "data": {
      "text/plain": [
       "0.018690275386034134"
      ]
     },
     "execution_count": 45,
     "metadata": {},
     "output_type": "execute_result"
    }
   ],
   "source": [
    "# Covarianza entre los portafolios\n",
    "s_MV_EMV = w_minvar.dot(Sigma).dot(w_EMV)\n",
    "s_MV_EMV"
   ]
  },
  {
   "cell_type": "code",
   "execution_count": 46,
   "metadata": {},
   "outputs": [
    {
     "data": {
      "text/plain": [
       "0.9885708894197612"
      ]
     },
     "execution_count": 46,
     "metadata": {},
     "output_type": "execute_result"
    }
   ],
   "source": [
    "# Correlación entre los portafolios\n",
    "r_MV_EMV = s_MV_EMV / (s_minvar * s_EMV)\n",
    "r_MV_EMV"
   ]
  },
  {
   "cell_type": "code",
   "execution_count": 58,
   "metadata": {},
   "outputs": [],
   "source": [
    "# Vector de w\n",
    "N = 101\n",
    "w = np.linspace(0, 4, N)"
   ]
  },
  {
   "cell_type": "code",
   "execution_count": 59,
   "metadata": {},
   "outputs": [
    {
     "data": {
      "text/html": [
       "<div>\n",
       "<style scoped>\n",
       "    .dataframe tbody tr th:only-of-type {\n",
       "        vertical-align: middle;\n",
       "    }\n",
       "\n",
       "    .dataframe tbody tr th {\n",
       "        vertical-align: top;\n",
       "    }\n",
       "\n",
       "    .dataframe thead th {\n",
       "        text-align: right;\n",
       "    }\n",
       "</style>\n",
       "<table border=\"1\" class=\"dataframe\">\n",
       "  <thead>\n",
       "    <tr style=\"text-align: right;\">\n",
       "      <th></th>\n",
       "      <th>w_EMV</th>\n",
       "      <th>w_minvar</th>\n",
       "      <th>Media</th>\n",
       "      <th>Vol</th>\n",
       "      <th>RS</th>\n",
       "    </tr>\n",
       "  </thead>\n",
       "  <tbody>\n",
       "    <tr>\n",
       "      <th>1</th>\n",
       "      <td>0.00</td>\n",
       "      <td>1.00</td>\n",
       "      <td>0.139629</td>\n",
       "      <td>0.136447</td>\n",
       "      <td>0.656878</td>\n",
       "    </tr>\n",
       "    <tr>\n",
       "      <th>2</th>\n",
       "      <td>0.04</td>\n",
       "      <td>0.96</td>\n",
       "      <td>0.139727</td>\n",
       "      <td>0.136471</td>\n",
       "      <td>0.657478</td>\n",
       "    </tr>\n",
       "    <tr>\n",
       "      <th>3</th>\n",
       "      <td>0.08</td>\n",
       "      <td>0.92</td>\n",
       "      <td>0.139824</td>\n",
       "      <td>0.136500</td>\n",
       "      <td>0.658053</td>\n",
       "    </tr>\n",
       "    <tr>\n",
       "      <th>4</th>\n",
       "      <td>0.12</td>\n",
       "      <td>0.88</td>\n",
       "      <td>0.139921</td>\n",
       "      <td>0.136534</td>\n",
       "      <td>0.658602</td>\n",
       "    </tr>\n",
       "    <tr>\n",
       "      <th>5</th>\n",
       "      <td>0.16</td>\n",
       "      <td>0.84</td>\n",
       "      <td>0.140019</td>\n",
       "      <td>0.136573</td>\n",
       "      <td>0.659127</td>\n",
       "    </tr>\n",
       "    <tr>\n",
       "      <th>6</th>\n",
       "      <td>0.20</td>\n",
       "      <td>0.80</td>\n",
       "      <td>0.140116</td>\n",
       "      <td>0.136617</td>\n",
       "      <td>0.659627</td>\n",
       "    </tr>\n",
       "    <tr>\n",
       "      <th>7</th>\n",
       "      <td>0.24</td>\n",
       "      <td>0.76</td>\n",
       "      <td>0.140214</td>\n",
       "      <td>0.136666</td>\n",
       "      <td>0.660102</td>\n",
       "    </tr>\n",
       "    <tr>\n",
       "      <th>8</th>\n",
       "      <td>0.28</td>\n",
       "      <td>0.72</td>\n",
       "      <td>0.140311</td>\n",
       "      <td>0.136721</td>\n",
       "      <td>0.660552</td>\n",
       "    </tr>\n",
       "    <tr>\n",
       "      <th>9</th>\n",
       "      <td>0.32</td>\n",
       "      <td>0.68</td>\n",
       "      <td>0.140409</td>\n",
       "      <td>0.136780</td>\n",
       "      <td>0.660978</td>\n",
       "    </tr>\n",
       "    <tr>\n",
       "      <th>10</th>\n",
       "      <td>0.36</td>\n",
       "      <td>0.64</td>\n",
       "      <td>0.140506</td>\n",
       "      <td>0.136845</td>\n",
       "      <td>0.661378</td>\n",
       "    </tr>\n",
       "  </tbody>\n",
       "</table>\n",
       "</div>"
      ],
      "text/plain": [
       "    w_EMV  w_minvar     Media       Vol        RS\n",
       "1    0.00      1.00  0.139629  0.136447  0.656878\n",
       "2    0.04      0.96  0.139727  0.136471  0.657478\n",
       "3    0.08      0.92  0.139824  0.136500  0.658053\n",
       "4    0.12      0.88  0.139921  0.136534  0.658602\n",
       "5    0.16      0.84  0.140019  0.136573  0.659127\n",
       "6    0.20      0.80  0.140116  0.136617  0.659627\n",
       "7    0.24      0.76  0.140214  0.136666  0.660102\n",
       "8    0.28      0.72  0.140311  0.136721  0.660552\n",
       "9    0.32      0.68  0.140409  0.136780  0.660978\n",
       "10   0.36      0.64  0.140506  0.136845  0.661378"
      ]
     },
     "execution_count": 59,
     "metadata": {},
     "output_type": "execute_result"
    }
   ],
   "source": [
    "# DataFrame de portafolios: \n",
    "# 1. Índice: i\n",
    "# 2. Columnas 1-2: w, 1-w\n",
    "# 3. Columnas 3-4: E[r], sigma\n",
    "# 4. Columna 5: Sharpe ratio\n",
    "front_minvar = pd.DataFrame(index = range(1, N+1),\n",
    "                            data={'w_EMV': w,\n",
    "                                  'w_minvar': 1 - w,\n",
    "                                  'Media': w * E_EMV + (1 - w) * E_minvar,\n",
    "                                  'Vol': np.sqrt((w * s_EMV)**2 + ((1 - w) * s_minvar)**2 + 2 * w * (1 - w) * s_MV_EMV)\n",
    "                                 }\n",
    "                           )\n",
    "front_minvar['RS'] = (front_minvar['Media'] - rf) / front_minvar['Vol']\n",
    "front_minvar.head(10)"
   ]
  },
  {
   "cell_type": "code",
   "execution_count": 60,
   "metadata": {},
   "outputs": [],
   "source": [
    "# Importar librerías de gráficos\n",
    "import matplotlib.pyplot as plt\n",
    "%matplotlib inline"
   ]
  },
  {
   "cell_type": "code",
   "execution_count": 61,
   "metadata": {},
   "outputs": [
    {
     "data": {
      "text/plain": [
       "<matplotlib.legend.Legend at 0x7f8c623fc898>"
      ]
     },
     "execution_count": 61,
     "metadata": {},
     "output_type": "execute_result"
    },
    {
     "data": {
      "image/png": "[encoded data removed]",
      "text/plain": [
       "<Figure size 432x288 with 1 Axes>"
      ]
     },
     "metadata": {
      "needs_background": "light"
     },
     "output_type": "display_data"
    }
   ],
   "source": [
    "# Gráfica de dispersión de puntos coloreando \n",
    "# de acuerdo a SR, los activos individuales\n",
    "# y los portafolios hallados\n",
    "plt.figure(figsize=(6,4))\n",
    "plt.plot(front_minvar['Vol'], \n",
    "         front_minvar['Media'], \n",
    "         lw=2, \n",
    "         color='lightcoral',\n",
    "         label='Frontera de minima varianza'\n",
    "        )\n",
    "plt.plot(s_EMV, E_EMV, 'or', ms=5, label='Port. EMV')\n",
    "plt.plot(s_minvar, E_minvar, 'ob', ms=5, label='Port. Min. Var.')\n",
    "plt.grid()\n",
    "plt.xlabel('Volatilidad $\\sigma$')\n",
    "plt.ylabel('Rendimiento esperado $E[r]$')\n",
    "plt.legend(loc = 'best')"
   ]
  },
  {
   "cell_type": "markdown",
   "metadata": {},
   "source": [
    "**A partir de lo anterior, solo restaría construir la LAC y elegir la distribución de capital de acuerdo a las preferencias (aversión al riesgo).**\n",
    "___"
   ]
  },
  {
   "cell_type": "markdown",
   "metadata": {},
   "source": [
    "## 3. Comentarios finales\n",
    "\n",
    "### 3.1. Restricciones adicionales\n",
    "\n",
    "Los inversionistas pueden tener restricciones adicionales:\n",
    "1. Restricciones en posiciones cortas.\n",
    "2. Pueden requerir un rendimiento mínimo.\n",
    "3. Inversión socialmente responsable: prescinden de inversiones en negocios o paises considerados éticamente o políticamente indeseables.\n",
    "\n",
    "Todo lo anterior se puede incluir como restricciones en el problema de optimización, y puede ser llevado a cabo a costa de un cociente de Sharpe menor."
   ]
  },
  {
   "cell_type": "markdown",
   "metadata": {},
   "source": [
    "### 3.2. Críticas a la optimización media varianza\n",
    "1. Solo importan medias y varianzas: recordar que la varianza subestima el riesgo en algunos casos.\n",
    "2. Preferencias media-varianza tratan las ganancias y pérdidas simétricamente: el sentimiento de insatisfacción de una perdida es mayor al sentimiento de satisfacción de una ganancia (aversión a pérdidas).\n",
    "3. La aversión al riesgo es constante: la actitud frente al riesgo puede cambiar, por ejemplo con el estado de la economía.\n",
    "4. Horizonte corto (un periodo).\n",
    "5. Basura entra - basura sale: la optimización media varianza es supremamente sensible a las entradas: estimaciones de rendimientos esperados y varianzas.\n",
    "___"
   ]
  },
  {
   "cell_type": "markdown",
   "metadata": {},
   "source": [
    "# Anuncios parroquiales\n",
    "\n",
    "## 1. Revisar archivo Tarea 6. Definir fecha.\n",
    "## 2. Fin de módulo. Abrir Clase0 y revisar objetivos del módulo.\n",
    "## 3. [Nota interesante](http://yetanothermathprogrammingconsultant.blogspot.com/2016/08/portfolio-optimization-maximize-sharpe.html)"
   ]
  },
  {
   "cell_type": "markdown",
   "metadata": {},
   "source": [
    "<script>\n",
    "  $(document).ready(function(){\n",
    "    $('div.prompt').hide();\n",
    "    $('div.back-to-top').hide();\n",
    "    $('nav#menubar').hide();\n",
    "    $('.breadcrumb').hide();\n",
    "    $('.hidden-print').hide();\n",
    "  });\n",
    "</script>\n",
    "\n",
    "<footer id=\"attribution\" style=\"float:right; color:#808080; background:#fff;\">\n",
    "Created with Jupyter by Esteban Jiménez Rodríguez.\n",
    "</footer>"
   ]
  }
 ],
 "metadata": {
  "kernelspec": {
   "display_name": "Python 3",
   "language": "python",
   "name": "python3"
  },
  "language_info": {
   "codemirror_mode": {
    "name": "ipython",
    "version": 3
   },
   "file_extension": ".py",
   "mimetype": "text/x-python",
   "name": "python",
   "nbconvert_exporter": "python",
   "pygments_lexer": "ipython3",
   "version": "3.7.3"
  }
 },
 "nbformat": 4,
 "nbformat_minor": 2
}
