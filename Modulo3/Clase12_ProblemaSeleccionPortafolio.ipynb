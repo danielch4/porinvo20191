{
 "cells": [
  {
   "cell_type": "markdown",
   "metadata": {},
   "source": [
    "# Problema de selección de portafolio con preferencias media-varianza\n",
    "\n",
    "<img style=\"float: right; margin: 0px 0px 15px 15px;\" src=\"https://encrypted-tbn0.gstatic.com/images?q=tbn:ANd9GcTuJvMFl4gvu5hxxkiWSANNVUAYO-oVpCJCivsl6Vllt6m6J9qUNw\" width=\"400px\" height=\"400px\" />\n",
    "\n",
    "En la clase pasada hablamos acerca de:\n",
    "- preferencias,\n",
    "- funciones de utilidad,\n",
    "- la actitud de los inversionistas de cara al riesgo,\n",
    "- la aversión al riesgo, entre otros.\n",
    "\n",
    "Todas ellas son piezas que necesitamos para responder la pregunta de ¿cómo un inversionista toma la decisión óptima de selección de portafolio?\n",
    "\n",
    "En esta clase al fin estamos listos para ensamblar estos conceptos y escribir el problema de selección de portafolios. \n",
    "\n",
    "En el camino aprenderemos acerca del concepto de **utilidad esperada**, que nos permite trabajar con incertidumbre en el modelado económico (una de las ideas más importantes en economía). Esta idea tiene más de 60 años, y básicamente dice que los individuos, cuando están de cara a incertidumbre, maximizan el valor esperado de su utilidad (solo cierto si somos homo economicus). \n",
    "\n",
    "Además del concepto de utilidad esperada, aprenderemos acerca de **preferencias media-varianza**. Es decir, supondremos que los inversionistas toman decisiones basados en un tipo particular de preferencias.\n",
    "\n",
    "Con lo anterior, estableceremos el problema de selección de portafolios.\n",
    "\n",
    "**Objetivos:**\n",
    "\n",
    "- ¿Qué es utilidad esperada?\n",
    "- ¿Qué son las preferencias media-varianza?\n",
    "- Funciones de utilidad media-varianza.\n",
    "- Enunciado y solución del problema básico de selección de portafolio.\n",
    "\n",
    "*Referencia:*\n",
    "- Notas del curso \"Portfolio Selection and Risk Management\", Rice University, disponible en Coursera.\n",
    "___"
   ]
  },
  {
   "cell_type": "markdown",
   "metadata": {},
   "source": [
    "## 1. Utilidad esperada\n",
    "- Básicamente combina las probabilidades de los resultados con cómo los inversionistas se sienten con dichos resultados.\n",
    "- En otras palabras, la utilidad esperada multiplica la probabilidad de suceso de un evento con la utilidad que genera dicho evento.\n",
    "\n",
    "Recordemos que las *funciones de utilidad* permiten a los inversionistas expresar cómo se sienten con los resultados, especialmente en los malos ratos. \n",
    "\n",
    "Entonces la *utilidad esperada* es una herramienta que nos permite cuantificar cómo nos sentimos en nuestros malos momentos económicos, capturando el riesgo con la probabilidad de ocurrencia de dichos malos momentos. "
   ]
  },
  {
   "cell_type": "markdown",
   "metadata": {},
   "source": [
    "Dado este marco de trabajo, cualquier decisión se puede escribir como la maximización de la utilidad esperada:\n",
    "\\begin{align}\n",
    "\\max_{\\theta} & \\quad E[U(W)], \\\\\n",
    "\\end{align}\n",
    "mediante la escogencia de cierta variable $\\theta$ (gastos, planes de ahorro, compra de activos, planes de producción, etc.).\n",
    "\n",
    "Para nuestros propósitos, la variable de decisión serán los pesos o ponderaciones del portafolio.\n",
    "\n",
    "Adicionalmente, en el contexto de la decisión de distribución de la riqueza entre activos, el problema de maximización tendrá comúnmente las siguientes restricciones:\n",
    "- universo de inversión,\n",
    "- posición en los activos dados."
   ]
  },
  {
   "cell_type": "markdown",
   "metadata": {},
   "source": [
    "**Ejemplo.** \n",
    "\n",
    "Supongamos que un inversionista debe determinar la composición óptima de su portafolio, que contiene activos y bonos. Supongamos que son los únicos instrumentos disponibles.\n",
    "\n",
    "Sean:\n",
    "- $w_s$: peso o ponderación de activos en el portafolio,\n",
    "- $w_b$: peso o ponderación de bonos en el portafolio,\n",
    "- $r_s$: rendimiento de los activos, y\n",
    "- $r_b$: rendimiento de los bonos.\n",
    "\n",
    "De manera que podemos escribir el problema de selección de portafolios como la maximización de la utilidad esperade de nuestra riqueza futura, la cual dependerá de nuestros rendimientos:\n",
    " \n",
    "\\begin{align}\n",
    "\\max_{w_s,w_b} &\\quad E[U(W)]\\\\\n",
    "\\text{s. a.}   &\\quad W=W_0(1+w_sr_s+w_br_b)\\\\\n",
    "               &\\quad w_s+w_b=1\n",
    "\\end{align}\n",
    "\n",
    "\n",
    "Preguntas:\n",
    "- ¿Qué significan las restricciones?\n",
    "- Ya que tenemos planteado este problema básico, ¿qué haría falta para empezar a resolverlo?\n",
    "___"
   ]
  },
  {
   "cell_type": "markdown",
   "metadata": {},
   "source": [
    "## 2. Preferencias media-varianza\n",
    "\n",
    "### 2.1. Utilidad media-varianza\n",
    "\n",
    "Entonces, ¿qué funciones de utilidad deberíamos de usar en este problema de selección de portafolios?\n",
    "\n",
    "- La respuesta es: **preferencias media-varianza**.\n",
    "- Éstas serán representadas en términos de funciones de utilidad como: **utilidad media-varianza**.\n",
    "\n",
    "Usamos la *utilidad media-varianza* en el problema de selección de portafolios dado que ésta decribe el \"trade-off\" entre riesgo y rendimiento que enfrentan los inversionistas. La *utilidad media-varianza* está dada por la siguiente expresión:\n",
    "\n",
    "$$U=E[r_p]-\\frac{1}{2}\\gamma\\sigma_p^2,$$\n",
    "\n",
    "donde\n",
    "- $E[r_p]$ es el rendimiento esperado del portafolio,\n",
    "- $\\sigma_p^2$ es la varianza del portafolio, y\n",
    "- $\\gamma$ es el coeficiente de aversión al riesgo. "
   ]
  },
  {
   "cell_type": "markdown",
   "metadata": {},
   "source": [
    "#### Intuición acerca de la función de utilidad media-varianza:\n",
    "- Sólo se preocupa por medias :) y varianzas :(.\n",
    "- Incrementa con: rendimiento esperado del portafolio.\n",
    "- Decrece con: varianza del portafolio.\n",
    "- Malos tiempos: rendimientos son bajos y las volatilidades son altas.\n",
    "- Conecta bastante bien con la teoría moderna de portafolios, la cual caracteriza los rendimientos con medias y varianzas únicamente.\n",
    "- Criticada por su limitación: supone que los inversionistas sólo se preocupan por medias y varianzas."
   ]
  },
  {
   "cell_type": "markdown",
   "metadata": {},
   "source": [
    "### 2.2. Curvas de indiferencia\n",
    "\n",
    "*¿Recuerdan las curvas de nivel que se ven en cálculo de varias variables?*\n",
    "- Bien, acá nos servirán para representar la utilidad media-varianza gráficamente.\n",
    "- En el contexto de utilidad media-varianza, las curvas de nivel se llaman **curvas de indiferencia**.\n",
    "\n",
    "Dados ciertos niveles de utilidad $U_1>U_2>U_3$, las curvas de indiferencia relativas a estos niveles de utilidad, son los lugares geométricos en el espacio de rendimiento esperado vs. volatilidad representados por las siguientes expresiones\n",
    "\n",
    "$$U_1=E[r_p]-\\frac{1}{2}\\gamma\\sigma_p^2\\Rightarrow E[r_p]=\\frac{1}{2}\\gamma\\sigma_p^2+U_1,$$\n",
    "\n",
    "$$U_2=E[r_p]-\\frac{1}{2}\\gamma\\sigma_p^2\\Rightarrow E[r_p]=\\frac{1}{2}\\gamma\\sigma_p^2+U_2,$$\n",
    "\n",
    "$$U_3=E[r_p]-\\frac{1}{2}\\gamma\\sigma_p^2\\Rightarrow E[r_p]=\\frac{1}{2}\\gamma\\sigma_p^2+U_3.$$"
   ]
  },
  {
   "cell_type": "markdown",
   "metadata": {},
   "source": [
    "**Gráficamente**"
   ]
  },
  {
   "cell_type": "code",
   "execution_count": 1,
   "metadata": {},
   "outputs": [],
   "source": [
    "# Importar numpy y pyplot\n",
    "import numpy as np\n",
    "import matplotlib.pyplot as plt\n",
    "%matplotlib inline"
   ]
  },
  {
   "cell_type": "code",
   "execution_count": 2,
   "metadata": {},
   "outputs": [],
   "source": [
    "# Coeficiente de aversión al riesgo (entre 1 y 10 comúnmente)\n",
    "g = 9\n",
    "# Niveles de utilidad\n",
    "U1, U2, U3 = 0.15, 0.1, 0.05\n",
    "# Vector de volatilidades (sugerido 1%-60%)\n",
    "sp = np.linspace(0.01, 0.6, 100)\n",
    "# Curvas de indiferencia\n",
    "E1 = 0.5 * g * sp**2 + U1\n",
    "E2 = 0.5 * g * sp**2 + U2\n",
    "E3 = 0.5 * g * sp**2 + U3"
   ]
  },
  {
   "cell_type": "code",
   "execution_count": 5,
   "metadata": {},
   "outputs": [
    {
     "data": {
      "image/png": "[encoded data removed]",
      "text/plain": [
       "<Figure size 432x288 with 1 Axes>"
      ]
     },
     "metadata": {
      "needs_background": "light"
     },
     "output_type": "display_data"
    }
   ],
   "source": [
    "# Gráfica\n",
    "plt.figure(figsize=(6, 4))\n",
    "plt.plot(sp, E1, label='$U_1=0.15$')\n",
    "plt.plot(sp, E2, label='$U_2=0.10$')\n",
    "plt.plot(sp, E3, label='$U_3=0.05$')\n",
    "plt.legend(loc='best')\n",
    "plt.xlabel('Volatilidad ($\\sigma$)')\n",
    "plt.ylabel('Rendimiento esperado ($E[r_p]$)')\n",
    "plt.grid()"
   ]
  },
  {
   "cell_type": "markdown",
   "metadata": {},
   "source": [
    "Bueno, ¿y porqué se llaman curvas de indiferencia?, ¿qué representa una cuva de indiferencia?\n",
    "\n",
    "- Porque sobre una misma curva el nivel de utilidad es el mismo (es indiferente).\n",
    "- Son todas las combinaciones de riesgo y rendimiento que producen un mismo nivel de utilidad."
   ]
  },
  {
   "cell_type": "markdown",
   "metadata": {},
   "source": [
    "Volviendo al problema de selección de portafolios, queremos la utilidad más alta.\n",
    "- ¿Cuál de las anteriores curvas de indiferencia corresponde a la utilidad más alta?\n",
    "- Intuitivamente, ¿porqué?\n",
    "- Curvas de indiferencia para niveles de utilidad más altos, estarán...\n",
    "\n",
    "Notamos además que las anteriores curvas de indiferencia son *paralelas* una con otra. Claro, las dibujamos con el mismo coeficiente de aversión al riesgo.\n",
    "\n",
    "¿Cómo cambian estas curvas para coeficientes de aversión al riesgo más altos?"
   ]
  },
  {
   "cell_type": "code",
   "execution_count": 6,
   "metadata": {},
   "outputs": [],
   "source": [
    "# Coeficientes de aversión al riesgo (entre 1 y 10 comúnmente)\n",
    "g1, g2, g3 = 3, 5, 7\n",
    "# Nivel de utilidad\n",
    "U = 0.15\n",
    "# Vector de volatilidades (sugerido 1%-60%)\n",
    "sp = np.linspace(0.01, 0.6, 100)\n",
    "# Curvas de indiferencia\n",
    "E1 = 0.5 * g1 * sp**2 + U\n",
    "E2 = 0.5 * g2 * sp**2 + U\n",
    "E3 = 0.5 * g3 * sp**2 + U"
   ]
  },
  {
   "cell_type": "code",
   "execution_count": 7,
   "metadata": {},
   "outputs": [
    {
     "data": {
      "image/png": "[encoded data removed]",
      "text/plain": [
       "<Figure size 432x288 with 1 Axes>"
      ]
     },
     "metadata": {
      "needs_background": "light"
     },
     "output_type": "display_data"
    }
   ],
   "source": [
    "# Gráfica\n",
    "plt.figure(figsize=(6, 4))\n",
    "plt.plot(sp, E1, label='$\\gamma_1=3$')\n",
    "plt.plot(sp, E2, label='$\\gamma_2=5$')\n",
    "plt.plot(sp, E3, label='$\\gamma_3=7$')\n",
    "plt.legend(loc='best')\n",
    "plt.xlabel('Volatilidad ($\\sigma$)')\n",
    "plt.ylabel('Rendimiento esperado ($E[r_p]$)')\n",
    "plt.grid()"
   ]
  },
  {
   "cell_type": "markdown",
   "metadata": {},
   "source": [
    "¿Cómo interpretamos las anteriores gráficas?, ¿qué pasa con las personas más aversas al riesgo?\n",
    "- Se puede ver de dos maneras: para un mismo nivel de rendimiento esperado, una persona más aversa al riesgo soporta un nivel menor de riesgo; equivalentemente, para un mismo nivel de riesgo, una persona más aversa al riesgo requerirá un nivel de rendimiento esperado más alto."
   ]
  },
  {
   "cell_type": "markdown",
   "metadata": {},
   "source": [
    "Con todo lo anterior, el problema de selección de portafolios se puede plantear como *\"encontrar la curva de indeferencia más alta dado el conjunto de oportunidades de inversión y restricciones\"*."
   ]
  },
  {
   "cell_type": "markdown",
   "metadata": {},
   "source": [
    "## 3. Problema de selección de portafolios: una ilustración\n",
    "\n",
    "Ahora ilustraremos el problema de selección de portafolios con algunos datos. \n",
    "- Por ahora solo queremos ilustrar gráficamente cómo se resuelve este problema. Trabajar en la intuición.\n",
    "- En las siguientes dos clases nos enfocaremos en cómo resolverlo analíticamente.\n",
    "\n",
    "Acá tenemos el rendimiento medio anual y la volatilidad para dos instrumentos usando datos de EU: instrumentos de deuda (bonos) y acciones. Supondremos que el inversionista solo puede invertir en estas dos clases de instrumentos."
   ]
  },
  {
   "cell_type": "code",
   "execution_count": 8,
   "metadata": {},
   "outputs": [
    {
     "name": "stderr",
     "output_type": "stream",
     "text": [
      "/home/esteban/anaconda3/lib/python3.7/importlib/_bootstrap.py:219: RuntimeWarning: numpy.ufunc size changed, may indicate binary incompatibility. Expected 192 from C header, got 216 from PyObject\n",
      "  return f(*args, **kwds)\n"
     ]
    }
   ],
   "source": [
    "# Importamos pandas\n",
    "import pandas as pd"
   ]
  },
  {
   "cell_type": "code",
   "execution_count": 9,
   "metadata": {},
   "outputs": [
    {
     "data": {
      "text/html": [
       "<div>\n",
       "<style scoped>\n",
       "    .dataframe tbody tr th:only-of-type {\n",
       "        vertical-align: middle;\n",
       "    }\n",
       "\n",
       "    .dataframe tbody tr th {\n",
       "        vertical-align: top;\n",
       "    }\n",
       "\n",
       "    .dataframe thead th {\n",
       "        text-align: right;\n",
       "    }\n",
       "</style>\n",
       "<table border=\"1\" class=\"dataframe\">\n",
       "  <thead>\n",
       "    <tr style=\"text-align: right;\">\n",
       "      <th></th>\n",
       "      <th>Mean</th>\n",
       "      <th>Std</th>\n",
       "    </tr>\n",
       "  </thead>\n",
       "  <tbody>\n",
       "    <tr>\n",
       "      <th>Stocks</th>\n",
       "      <td>0.1190</td>\n",
       "      <td>0.1915</td>\n",
       "    </tr>\n",
       "    <tr>\n",
       "      <th>Bonds</th>\n",
       "      <td>0.0591</td>\n",
       "      <td>0.0833</td>\n",
       "    </tr>\n",
       "    <tr>\n",
       "      <th>CorrSB</th>\n",
       "      <td>0.1130</td>\n",
       "      <td>NaN</td>\n",
       "    </tr>\n",
       "  </tbody>\n",
       "</table>\n",
       "</div>"
      ],
      "text/plain": [
       "          Mean     Std\n",
       "Stocks  0.1190  0.1915\n",
       "Bonds   0.0591  0.0833\n",
       "CorrSB  0.1130     NaN"
      ]
     },
     "execution_count": 9,
     "metadata": {},
     "output_type": "execute_result"
    }
   ],
   "source": [
    "# Datos\n",
    "data = pd.DataFrame(index=['Stocks','Bonds', 'CorrSB'], columns=['Mean', 'Std'])\n",
    "data['Mean'] = [0.119, 0.0591, 0.113]\n",
    "data['Std'] = [0.1915, 0.0833, None]\n",
    "data"
   ]
  },
  {
   "cell_type": "markdown",
   "metadata": {},
   "source": [
    "Entonces, ¿cuál es la distribución de riqueza óptima?, o más bien, ¿cuál es la composición óptima del portafolio para un inversionista dado su nivel de aversión al riesgo?\n",
    "\n",
    "**Primero.** Recordamos que, para dos activos, podemos trazar la frontera de mínima varianza tomando todas las posibles combinaciones de los dos activos.\n",
    "\n",
    "De nuevo, sean:\n",
    "- $w_s=w$: peso o ponderación de activos en el portafolio,\n",
    "- $w_b=1-w$: peso o ponderación de bonos en el portafolio,\n",
    "- $r_s$: rendimiento de los activos, y\n",
    "- $r_b$: rendimiento de los bonos.\n",
    "\n",
    "Entonces\n",
    "\n",
    "$$E[r_p]=wE[r_{s}]+(1-w)E[r_b]$$\n",
    "\n",
    "$$\\sigma_p^2=w^2\\sigma_{s}^2+(1-w)^2\\sigma_b^2+2w(1-w)\\rho_{s,b}\\sigma_s\\sigma_b$$"
   ]
  },
  {
   "cell_type": "code",
   "execution_count": 10,
   "metadata": {},
   "outputs": [
    {
     "data": {
      "text/plain": [
       "(0.119, 0.0591, 0.1915, 0.0833, 0.113)"
      ]
     },
     "execution_count": 10,
     "metadata": {},
     "output_type": "execute_result"
    }
   ],
   "source": [
    "# Vector de w variando entre 0 y 1 con n pasos\n",
    "w = np.linspace(0, 1, 101)\n",
    "# Rendimientos esperados individuales\n",
    "Es = data.loc['Stocks', 'Mean']\n",
    "Eb = data.loc['Bonds', 'Mean']\n",
    "# Volatilidades individuales\n",
    "ss = data.loc['Stocks', 'Std']\n",
    "sb = data.loc['Bonds', 'Std']\n",
    "# Correlacion\n",
    "rsb = data.loc['CorrSB', 'Mean']\n",
    "Es, Eb, ss, sb, rsb"
   ]
  },
  {
   "cell_type": "code",
   "execution_count": 11,
   "metadata": {
    "scrolled": true
   },
   "outputs": [
    {
     "data": {
      "text/html": [
       "<div>\n",
       "<style scoped>\n",
       "    .dataframe tbody tr th:only-of-type {\n",
       "        vertical-align: middle;\n",
       "    }\n",
       "\n",
       "    .dataframe tbody tr th {\n",
       "        vertical-align: top;\n",
       "    }\n",
       "\n",
       "    .dataframe thead th {\n",
       "        text-align: right;\n",
       "    }\n",
       "</style>\n",
       "<table border=\"1\" class=\"dataframe\">\n",
       "  <thead>\n",
       "    <tr style=\"text-align: right;\">\n",
       "      <th></th>\n",
       "      <th>w</th>\n",
       "      <th>Media</th>\n",
       "      <th>Vol</th>\n",
       "    </tr>\n",
       "  </thead>\n",
       "  <tbody>\n",
       "    <tr>\n",
       "      <th>0</th>\n",
       "      <td>0.00</td>\n",
       "      <td>0.059100</td>\n",
       "      <td>0.083300</td>\n",
       "    </tr>\n",
       "    <tr>\n",
       "      <th>1</th>\n",
       "      <td>0.01</td>\n",
       "      <td>0.059699</td>\n",
       "      <td>0.082705</td>\n",
       "    </tr>\n",
       "    <tr>\n",
       "      <th>2</th>\n",
       "      <td>0.02</td>\n",
       "      <td>0.060298</td>\n",
       "      <td>0.082155</td>\n",
       "    </tr>\n",
       "    <tr>\n",
       "      <th>3</th>\n",
       "      <td>0.03</td>\n",
       "      <td>0.060897</td>\n",
       "      <td>0.081650</td>\n",
       "    </tr>\n",
       "    <tr>\n",
       "      <th>4</th>\n",
       "      <td>0.04</td>\n",
       "      <td>0.061496</td>\n",
       "      <td>0.081191</td>\n",
       "    </tr>\n",
       "    <tr>\n",
       "      <th>5</th>\n",
       "      <td>0.05</td>\n",
       "      <td>0.062095</td>\n",
       "      <td>0.080779</td>\n",
       "    </tr>\n",
       "    <tr>\n",
       "      <th>6</th>\n",
       "      <td>0.06</td>\n",
       "      <td>0.062694</td>\n",
       "      <td>0.080415</td>\n",
       "    </tr>\n",
       "    <tr>\n",
       "      <th>7</th>\n",
       "      <td>0.07</td>\n",
       "      <td>0.063293</td>\n",
       "      <td>0.080099</td>\n",
       "    </tr>\n",
       "    <tr>\n",
       "      <th>8</th>\n",
       "      <td>0.08</td>\n",
       "      <td>0.063892</td>\n",
       "      <td>0.079832</td>\n",
       "    </tr>\n",
       "    <tr>\n",
       "      <th>9</th>\n",
       "      <td>0.09</td>\n",
       "      <td>0.064491</td>\n",
       "      <td>0.079614</td>\n",
       "    </tr>\n",
       "    <tr>\n",
       "      <th>10</th>\n",
       "      <td>0.10</td>\n",
       "      <td>0.065090</td>\n",
       "      <td>0.079446</td>\n",
       "    </tr>\n",
       "    <tr>\n",
       "      <th>11</th>\n",
       "      <td>0.11</td>\n",
       "      <td>0.065689</td>\n",
       "      <td>0.079328</td>\n",
       "    </tr>\n",
       "    <tr>\n",
       "      <th>12</th>\n",
       "      <td>0.12</td>\n",
       "      <td>0.066288</td>\n",
       "      <td>0.079261</td>\n",
       "    </tr>\n",
       "    <tr>\n",
       "      <th>13</th>\n",
       "      <td>0.13</td>\n",
       "      <td>0.066887</td>\n",
       "      <td>0.079244</td>\n",
       "    </tr>\n",
       "    <tr>\n",
       "      <th>14</th>\n",
       "      <td>0.14</td>\n",
       "      <td>0.067486</td>\n",
       "      <td>0.079277</td>\n",
       "    </tr>\n",
       "    <tr>\n",
       "      <th>15</th>\n",
       "      <td>0.15</td>\n",
       "      <td>0.068085</td>\n",
       "      <td>0.079361</td>\n",
       "    </tr>\n",
       "    <tr>\n",
       "      <th>16</th>\n",
       "      <td>0.16</td>\n",
       "      <td>0.068684</td>\n",
       "      <td>0.079495</td>\n",
       "    </tr>\n",
       "    <tr>\n",
       "      <th>17</th>\n",
       "      <td>0.17</td>\n",
       "      <td>0.069283</td>\n",
       "      <td>0.079679</td>\n",
       "    </tr>\n",
       "    <tr>\n",
       "      <th>18</th>\n",
       "      <td>0.18</td>\n",
       "      <td>0.069882</td>\n",
       "      <td>0.079913</td>\n",
       "    </tr>\n",
       "    <tr>\n",
       "      <th>19</th>\n",
       "      <td>0.19</td>\n",
       "      <td>0.070481</td>\n",
       "      <td>0.080195</td>\n",
       "    </tr>\n",
       "    <tr>\n",
       "      <th>20</th>\n",
       "      <td>0.20</td>\n",
       "      <td>0.071080</td>\n",
       "      <td>0.080527</td>\n",
       "    </tr>\n",
       "    <tr>\n",
       "      <th>21</th>\n",
       "      <td>0.21</td>\n",
       "      <td>0.071679</td>\n",
       "      <td>0.080907</td>\n",
       "    </tr>\n",
       "    <tr>\n",
       "      <th>22</th>\n",
       "      <td>0.22</td>\n",
       "      <td>0.072278</td>\n",
       "      <td>0.081334</td>\n",
       "    </tr>\n",
       "    <tr>\n",
       "      <th>23</th>\n",
       "      <td>0.23</td>\n",
       "      <td>0.072877</td>\n",
       "      <td>0.081808</td>\n",
       "    </tr>\n",
       "    <tr>\n",
       "      <th>24</th>\n",
       "      <td>0.24</td>\n",
       "      <td>0.073476</td>\n",
       "      <td>0.082327</td>\n",
       "    </tr>\n",
       "    <tr>\n",
       "      <th>25</th>\n",
       "      <td>0.25</td>\n",
       "      <td>0.074075</td>\n",
       "      <td>0.082892</td>\n",
       "    </tr>\n",
       "    <tr>\n",
       "      <th>26</th>\n",
       "      <td>0.26</td>\n",
       "      <td>0.074674</td>\n",
       "      <td>0.083501</td>\n",
       "    </tr>\n",
       "    <tr>\n",
       "      <th>27</th>\n",
       "      <td>0.27</td>\n",
       "      <td>0.075273</td>\n",
       "      <td>0.084153</td>\n",
       "    </tr>\n",
       "    <tr>\n",
       "      <th>28</th>\n",
       "      <td>0.28</td>\n",
       "      <td>0.075872</td>\n",
       "      <td>0.084847</td>\n",
       "    </tr>\n",
       "    <tr>\n",
       "      <th>29</th>\n",
       "      <td>0.29</td>\n",
       "      <td>0.076471</td>\n",
       "      <td>0.085582</td>\n",
       "    </tr>\n",
       "    <tr>\n",
       "      <th>...</th>\n",
       "      <td>...</td>\n",
       "      <td>...</td>\n",
       "      <td>...</td>\n",
       "    </tr>\n",
       "    <tr>\n",
       "      <th>71</th>\n",
       "      <td>0.71</td>\n",
       "      <td>0.101629</td>\n",
       "      <td>0.140756</td>\n",
       "    </tr>\n",
       "    <tr>\n",
       "      <th>72</th>\n",
       "      <td>0.72</td>\n",
       "      <td>0.102228</td>\n",
       "      <td>0.142414</td>\n",
       "    </tr>\n",
       "    <tr>\n",
       "      <th>73</th>\n",
       "      <td>0.73</td>\n",
       "      <td>0.102827</td>\n",
       "      <td>0.144080</td>\n",
       "    </tr>\n",
       "    <tr>\n",
       "      <th>74</th>\n",
       "      <td>0.74</td>\n",
       "      <td>0.103426</td>\n",
       "      <td>0.145755</td>\n",
       "    </tr>\n",
       "    <tr>\n",
       "      <th>75</th>\n",
       "      <td>0.75</td>\n",
       "      <td>0.104025</td>\n",
       "      <td>0.147437</td>\n",
       "    </tr>\n",
       "    <tr>\n",
       "      <th>76</th>\n",
       "      <td>0.76</td>\n",
       "      <td>0.104624</td>\n",
       "      <td>0.149128</td>\n",
       "    </tr>\n",
       "    <tr>\n",
       "      <th>77</th>\n",
       "      <td>0.77</td>\n",
       "      <td>0.105223</td>\n",
       "      <td>0.150826</td>\n",
       "    </tr>\n",
       "    <tr>\n",
       "      <th>78</th>\n",
       "      <td>0.78</td>\n",
       "      <td>0.105822</td>\n",
       "      <td>0.152532</td>\n",
       "    </tr>\n",
       "    <tr>\n",
       "      <th>79</th>\n",
       "      <td>0.79</td>\n",
       "      <td>0.106421</td>\n",
       "      <td>0.154244</td>\n",
       "    </tr>\n",
       "    <tr>\n",
       "      <th>80</th>\n",
       "      <td>0.80</td>\n",
       "      <td>0.107020</td>\n",
       "      <td>0.155964</td>\n",
       "    </tr>\n",
       "    <tr>\n",
       "      <th>81</th>\n",
       "      <td>0.81</td>\n",
       "      <td>0.107619</td>\n",
       "      <td>0.157690</td>\n",
       "    </tr>\n",
       "    <tr>\n",
       "      <th>82</th>\n",
       "      <td>0.82</td>\n",
       "      <td>0.108218</td>\n",
       "      <td>0.159422</td>\n",
       "    </tr>\n",
       "    <tr>\n",
       "      <th>83</th>\n",
       "      <td>0.83</td>\n",
       "      <td>0.108817</td>\n",
       "      <td>0.161161</td>\n",
       "    </tr>\n",
       "    <tr>\n",
       "      <th>84</th>\n",
       "      <td>0.84</td>\n",
       "      <td>0.109416</td>\n",
       "      <td>0.162905</td>\n",
       "    </tr>\n",
       "    <tr>\n",
       "      <th>85</th>\n",
       "      <td>0.85</td>\n",
       "      <td>0.110015</td>\n",
       "      <td>0.164656</td>\n",
       "    </tr>\n",
       "    <tr>\n",
       "      <th>86</th>\n",
       "      <td>0.86</td>\n",
       "      <td>0.110614</td>\n",
       "      <td>0.166412</td>\n",
       "    </tr>\n",
       "    <tr>\n",
       "      <th>87</th>\n",
       "      <td>0.87</td>\n",
       "      <td>0.111213</td>\n",
       "      <td>0.168173</td>\n",
       "    </tr>\n",
       "    <tr>\n",
       "      <th>88</th>\n",
       "      <td>0.88</td>\n",
       "      <td>0.111812</td>\n",
       "      <td>0.169940</td>\n",
       "    </tr>\n",
       "    <tr>\n",
       "      <th>89</th>\n",
       "      <td>0.89</td>\n",
       "      <td>0.112411</td>\n",
       "      <td>0.171712</td>\n",
       "    </tr>\n",
       "    <tr>\n",
       "      <th>90</th>\n",
       "      <td>0.90</td>\n",
       "      <td>0.113010</td>\n",
       "      <td>0.173489</td>\n",
       "    </tr>\n",
       "    <tr>\n",
       "      <th>91</th>\n",
       "      <td>0.91</td>\n",
       "      <td>0.113609</td>\n",
       "      <td>0.175271</td>\n",
       "    </tr>\n",
       "    <tr>\n",
       "      <th>92</th>\n",
       "      <td>0.92</td>\n",
       "      <td>0.114208</td>\n",
       "      <td>0.177057</td>\n",
       "    </tr>\n",
       "    <tr>\n",
       "      <th>93</th>\n",
       "      <td>0.93</td>\n",
       "      <td>0.114807</td>\n",
       "      <td>0.178848</td>\n",
       "    </tr>\n",
       "    <tr>\n",
       "      <th>94</th>\n",
       "      <td>0.94</td>\n",
       "      <td>0.115406</td>\n",
       "      <td>0.180643</td>\n",
       "    </tr>\n",
       "    <tr>\n",
       "      <th>95</th>\n",
       "      <td>0.95</td>\n",
       "      <td>0.116005</td>\n",
       "      <td>0.182443</td>\n",
       "    </tr>\n",
       "    <tr>\n",
       "      <th>96</th>\n",
       "      <td>0.96</td>\n",
       "      <td>0.116604</td>\n",
       "      <td>0.184246</td>\n",
       "    </tr>\n",
       "    <tr>\n",
       "      <th>97</th>\n",
       "      <td>0.97</td>\n",
       "      <td>0.117203</td>\n",
       "      <td>0.186054</td>\n",
       "    </tr>\n",
       "    <tr>\n",
       "      <th>98</th>\n",
       "      <td>0.98</td>\n",
       "      <td>0.117802</td>\n",
       "      <td>0.187866</td>\n",
       "    </tr>\n",
       "    <tr>\n",
       "      <th>99</th>\n",
       "      <td>0.99</td>\n",
       "      <td>0.118401</td>\n",
       "      <td>0.189681</td>\n",
       "    </tr>\n",
       "    <tr>\n",
       "      <th>100</th>\n",
       "      <td>1.00</td>\n",
       "      <td>0.119000</td>\n",
       "      <td>0.191500</td>\n",
       "    </tr>\n",
       "  </tbody>\n",
       "</table>\n",
       "<p>101 rows × 3 columns</p>\n",
       "</div>"
      ],
      "text/plain": [
       "        w     Media       Vol\n",
       "0    0.00  0.059100  0.083300\n",
       "1    0.01  0.059699  0.082705\n",
       "2    0.02  0.060298  0.082155\n",
       "3    0.03  0.060897  0.081650\n",
       "4    0.04  0.061496  0.081191\n",
       "5    0.05  0.062095  0.080779\n",
       "6    0.06  0.062694  0.080415\n",
       "7    0.07  0.063293  0.080099\n",
       "8    0.08  0.063892  0.079832\n",
       "9    0.09  0.064491  0.079614\n",
       "10   0.10  0.065090  0.079446\n",
       "11   0.11  0.065689  0.079328\n",
       "12   0.12  0.066288  0.079261\n",
       "13   0.13  0.066887  0.079244\n",
       "14   0.14  0.067486  0.079277\n",
       "15   0.15  0.068085  0.079361\n",
       "16   0.16  0.068684  0.079495\n",
       "17   0.17  0.069283  0.079679\n",
       "18   0.18  0.069882  0.079913\n",
       "19   0.19  0.070481  0.080195\n",
       "20   0.20  0.071080  0.080527\n",
       "21   0.21  0.071679  0.080907\n",
       "22   0.22  0.072278  0.081334\n",
       "23   0.23  0.072877  0.081808\n",
       "24   0.24  0.073476  0.082327\n",
       "25   0.25  0.074075  0.082892\n",
       "26   0.26  0.074674  0.083501\n",
       "27   0.27  0.075273  0.084153\n",
       "28   0.28  0.075872  0.084847\n",
       "29   0.29  0.076471  0.085582\n",
       "..    ...       ...       ...\n",
       "71   0.71  0.101629  0.140756\n",
       "72   0.72  0.102228  0.142414\n",
       "73   0.73  0.102827  0.144080\n",
       "74   0.74  0.103426  0.145755\n",
       "75   0.75  0.104025  0.147437\n",
       "76   0.76  0.104624  0.149128\n",
       "77   0.77  0.105223  0.150826\n",
       "78   0.78  0.105822  0.152532\n",
       "79   0.79  0.106421  0.154244\n",
       "80   0.80  0.107020  0.155964\n",
       "81   0.81  0.107619  0.157690\n",
       "82   0.82  0.108218  0.159422\n",
       "83   0.83  0.108817  0.161161\n",
       "84   0.84  0.109416  0.162905\n",
       "85   0.85  0.110015  0.164656\n",
       "86   0.86  0.110614  0.166412\n",
       "87   0.87  0.111213  0.168173\n",
       "88   0.88  0.111812  0.169940\n",
       "89   0.89  0.112411  0.171712\n",
       "90   0.90  0.113010  0.173489\n",
       "91   0.91  0.113609  0.175271\n",
       "92   0.92  0.114208  0.177057\n",
       "93   0.93  0.114807  0.178848\n",
       "94   0.94  0.115406  0.180643\n",
       "95   0.95  0.116005  0.182443\n",
       "96   0.96  0.116604  0.184246\n",
       "97   0.97  0.117203  0.186054\n",
       "98   0.98  0.117802  0.187866\n",
       "99   0.99  0.118401  0.189681\n",
       "100  1.00  0.119000  0.191500\n",
       "\n",
       "[101 rows x 3 columns]"
      ]
     },
     "execution_count": 11,
     "metadata": {},
     "output_type": "execute_result"
    }
   ],
   "source": [
    "# Crear un DataFrame cuyas columnas sean rendimiento\n",
    "# y volatilidad del portafolio para cada una de las w\n",
    "# generadas\n",
    "portafolios = pd.DataFrame(data={'w': w,\n",
    "                                 'Media': w * Es + (1 - w) * Eb,\n",
    "                                 'Vol': (w**2 * ss**2 + (1-w)**2 * sb**2 + 2 * w * (1 - w) * rsb * ss * sb)**0.5\n",
    "                                }\n",
    "                          )\n",
    "portafolios"
   ]
  },
  {
   "cell_type": "code",
   "execution_count": 12,
   "metadata": {},
   "outputs": [
    {
     "data": {
      "image/png": "[encoded data removed]",
      "text/plain": [
       "<Figure size 432x288 with 1 Axes>"
      ]
     },
     "metadata": {
      "needs_background": "light"
     },
     "output_type": "display_data"
    }
   ],
   "source": [
    "# Gráfica\n",
    "plt.figure(figsize=(6, 4))\n",
    "plt.plot(portafolios['Vol'], portafolios['Media'], label='Port.')\n",
    "plt.legend(loc='best')\n",
    "plt.xlabel('Volatilidad ($\\sigma$)')\n",
    "plt.ylabel('Rendimiento esperado ($E[r]$)')\n",
    "plt.grid()"
   ]
  },
  {
   "cell_type": "markdown",
   "metadata": {},
   "source": [
    "**Segundo.** Graficamos en la misma ventana, curvas de indiferencia."
   ]
  },
  {
   "cell_type": "code",
   "execution_count": 25,
   "metadata": {},
   "outputs": [],
   "source": [
    "# Niveles de utilidad \n",
    "U1, U2, U3 = 0.06, 0.07251, 0.09\n",
    "# Coeficiente de aversión al riesgo\n",
    "g = 3\n",
    "# Curvas de indiferencia\n",
    "E1 = 0.5 * g * portafolios['Vol']**2 + U1\n",
    "E2 = 0.5 * g * portafolios['Vol']**2 + U2\n",
    "E3 = 0.5 * g * portafolios['Vol']**2 + U3"
   ]
  },
  {
   "cell_type": "code",
   "execution_count": 26,
   "metadata": {},
   "outputs": [
    {
     "data": {
      "image/png": "[encoded data removed]",
      "text/plain": [
       "<Figure size 432x288 with 1 Axes>"
      ]
     },
     "metadata": {
      "needs_background": "light"
     },
     "output_type": "display_data"
    }
   ],
   "source": [
    "# Gráfica\n",
    "plt.figure(figsize=(6, 4))\n",
    "plt.plot(portafolios['Vol'], portafolios['Media'], label='Port.')\n",
    "plt.plot(portafolios['Vol'], E1, label='$U_1=0.06$')\n",
    "plt.plot(portafolios['Vol'], E2, label='$U_2=0.0725$')\n",
    "plt.plot(portafolios['Vol'], E3, label='$U_3=0.09$')\n",
    "plt.legend(loc='best')\n",
    "plt.xlabel('Volatilidad ($\\sigma$)')\n",
    "plt.ylabel('Rendimiento esperado ($E[r_p]$)')\n",
    "plt.grid()"
   ]
  },
  {
   "cell_type": "markdown",
   "metadata": {},
   "source": [
    "**Tercero.** La elección óptima está dada por la curva de indiferencia para el nivel de utilidad más alto que es tangente a la frontera media-varianza.\n",
    "- Claramente, esta selección depende del coeficiente de aversión al riesgo."
   ]
  },
  {
   "cell_type": "code",
   "execution_count": 27,
   "metadata": {},
   "outputs": [
    {
     "data": {
      "text/plain": [
       "[0.11, 0.15, 0.08, 0.11]"
      ]
     },
     "execution_count": 27,
     "metadata": {},
     "output_type": "execute_result"
    },
    {
     "data": {
      "image/png": "[encoded data removed]",
      "text/plain": [
       "<Figure size 432x288 with 1 Axes>"
      ]
     },
     "metadata": {
      "needs_background": "light"
     },
     "output_type": "display_data"
    }
   ],
   "source": [
    "# Gráfica con zoom\n",
    "# Gráfica\n",
    "plt.figure(figsize=(6, 4))\n",
    "plt.plot(portafolios['Vol'], portafolios['Media'], label='Port.')\n",
    "plt.plot(portafolios['Vol'], E1, label='$U_1=0.06$')\n",
    "plt.plot(portafolios['Vol'], E2, label='$U_2=0.0725$')\n",
    "plt.plot(portafolios['Vol'], E3, label='$U_3=0.09$')\n",
    "plt.legend(loc='best')\n",
    "plt.xlabel('Volatilidad ($\\sigma$)')\n",
    "plt.ylabel('Rendimiento esperado ($E[r_p]$)')\n",
    "plt.grid()\n",
    "plt.axis([0.11, 0.15, 0.08, 0.11])"
   ]
  },
  {
   "cell_type": "markdown",
   "metadata": {},
   "source": [
    "# Anuncios parroquiales\n",
    "\n",
    "## 1. Quiz la siguiente clase (22 de Octubre, porque la siguiente es el examen).\n",
    "## 2. Un par de artículos del WSJ y el NYT que discuten herramientas disponibles para la medición de su propia tolerancia al riesgo:\n",
    "- [Artículo 1](https://www.nytimes.com/2016/02/13/your-money/as-stocks-fall-its-time-to-measure-your-risk-tolerance.html)\n",
    "- [Artículo 2](https://www.wsj.com/articles/check-your-tolerance-for-investment-risk-now-before-markets-sag-1405619939)\n",
    "\n",
    "## 3. Tarea 5 para hoy.\n",
    "## 4. Tarea 4 Entrega 2 para el lunes.\n",
    "## 5. Examen módulos 1 y 2 el martes."
   ]
  },
  {
   "cell_type": "markdown",
   "metadata": {},
   "source": [
    "<script>\n",
    "  $(document).ready(function(){\n",
    "    $('div.prompt').hide();\n",
    "    $('div.back-to-top').hide();\n",
    "    $('nav#menubar').hide();\n",
    "    $('.breadcrumb').hide();\n",
    "    $('.hidden-print').hide();\n",
    "  });\n",
    "</script>\n",
    "\n",
    "<footer id=\"attribution\" style=\"float:right; color:#808080; background:#fff;\">\n",
    "Created with Jupyter by Esteban Jiménez Rodríguez.\n",
    "</footer>"
   ]
  }
 ],
 "metadata": {
  "kernelspec": {
   "display_name": "Python 3",
   "language": "python",
   "name": "python3"
  },
  "language_info": {
   "codemirror_mode": {
    "name": "ipython",
    "version": 3
   },
   "file_extension": ".py",
   "mimetype": "text/x-python",
   "name": "python",
   "nbconvert_exporter": "python",
   "pygments_lexer": "ipython3",
   "version": "3.7.3"
  }
 },
 "nbformat": 4,
 "nbformat_minor": 2
}
